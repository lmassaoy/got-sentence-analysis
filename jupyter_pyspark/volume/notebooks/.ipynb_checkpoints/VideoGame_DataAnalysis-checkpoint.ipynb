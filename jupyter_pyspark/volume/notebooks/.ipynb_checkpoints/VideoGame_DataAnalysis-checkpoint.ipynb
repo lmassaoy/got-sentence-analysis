{
 "cells": [
  {
   "cell_type": "code",
   "execution_count": 91,
   "metadata": {},
   "outputs": [],
   "source": [
    "from pyspark.sql import *\n",
    "\n",
    "spark = SparkSession.builder.master('local').getOrCreate()\n",
    "sc = spark.sparkContext"
   ]
  },
  {
   "cell_type": "code",
   "execution_count": 92,
   "metadata": {},
   "outputs": [],
   "source": [
    "sales_ranking_df = spark.read.csv(\"../datasets/raw_data/general/vgsales.csv\", header=True)\n",
    "sales_ranking_df.createOrReplaceTempView(\"sales_ranking\")"
   ]
  },
  {
   "cell_type": "code",
   "execution_count": 283,
   "metadata": {},
   "outputs": [],
   "source": [
    "sales_ranking_df.select(sales_ranking_df.Rank.cast(\"int\"),\n",
    "                        sales_ranking_df.Name,\n",
    "                        sales_ranking_df.Platform,\n",
    "                        sales_ranking_df.Year.cast(\"int\"),\n",
    "                        sales_ranking_df.Genre,\n",
    "                        sales_ranking_df.Publisher,\n",
    "                        sales_ranking_df.NA_Sales.cast(\"float\"),\n",
    "                        sales_ranking_df.EU_Sales.cast(\"float\"),\n",
    "                        sales_ranking_df.JP_Sales.cast(\"float\"),\n",
    "                        sales_ranking_df.Other_Sales.cast(\"float\"),\n",
    "                        sales_ranking_df.Global_Sales.cast(\"float\"),\n",
    "                       ).write\\\n",
    "                        .mode(\"overwrite\")\\\n",
    "                        .partitionBy('Year')\\\n",
    "                        .parquet(\"../datasets/refined_data/general/vgsales_datatype_fixed\")"
   ]
  },
  {
   "cell_type": "code",
   "execution_count": 284,
   "metadata": {},
   "outputs": [],
   "source": [
    "sales_ranking_from_parquet_df = spark.read.parquet(\"../datasets/refined_data/general/vgsales_datatype_fixed\")\n",
    "sales_ranking_from_parquet_df.createOrReplaceTempView(\"sales_ranking_parquet\")"
   ]
  },
  {
   "cell_type": "code",
   "execution_count": 202,
   "metadata": {},
   "outputs": [
    {
     "data": {
      "text/plain": [
       "16598"
      ]
     },
     "execution_count": 202,
     "metadata": {},
     "output_type": "execute_result"
    }
   ],
   "source": [
    "sales_ranking_df.count()"
   ]
  },
  {
   "cell_type": "code",
   "execution_count": 188,
   "metadata": {},
   "outputs": [
    {
     "data": {
      "text/plain": [
       "16598"
      ]
     },
     "execution_count": 188,
     "metadata": {},
     "output_type": "execute_result"
    }
   ],
   "source": [
    "sales_ranking_from_parquet_df.count()"
   ]
  },
  {
   "cell_type": "code",
   "execution_count": 195,
   "metadata": {},
   "outputs": [
    {
     "name": "stdout",
     "output_type": "stream",
     "text": [
      "+--------+\n",
      "|count(1)|\n",
      "+--------+\n",
      "|   16598|\n",
      "+--------+\n",
      "\n"
     ]
    }
   ],
   "source": [
    "spark.sql(\"select count(*) from sales_ranking\").show()"
   ]
  },
  {
   "cell_type": "code",
   "execution_count": 196,
   "metadata": {},
   "outputs": [
    {
     "name": "stdout",
     "output_type": "stream",
     "text": [
      "+--------+\n",
      "|count(1)|\n",
      "+--------+\n",
      "|   16598|\n",
      "+--------+\n",
      "\n"
     ]
    }
   ],
   "source": [
    "spark.sql(\"select count(*) from sales_ranking_parquet\").show()"
   ]
  },
  {
   "cell_type": "code",
   "execution_count": 285,
   "metadata": {},
   "outputs": [
    {
     "name": "stdout",
     "output_type": "stream",
     "text": [
      "+----+--------------------+--------+------------+---------+--------+--------+--------+-----------+------------+----+\n",
      "|Rank|                Name|Platform|       Genre|Publisher|NA_Sales|EU_Sales|JP_Sales|Other_Sales|Global_Sales|Year|\n",
      "+----+--------------------+--------+------------+---------+--------+--------+--------+-----------+------------+----+\n",
      "|   1|          Wii Sports|     Wii|      Sports| Nintendo|   41.49|   29.02|    3.77|       8.46|       82.74|2006|\n",
      "|   2|   Super Mario Bros.|     NES|    Platform| Nintendo|   29.08|    3.58|    6.81|       0.77|       40.24|1985|\n",
      "|   3|      Mario Kart Wii|     Wii|      Racing| Nintendo|   15.85|   12.88|    3.79|       3.31|       35.82|2008|\n",
      "|   4|   Wii Sports Resort|     Wii|      Sports| Nintendo|   15.75|   11.01|    3.28|       2.96|        33.0|2009|\n",
      "|   5|Pokemon Red/Pokem...|      GB|Role-Playing| Nintendo|   11.27|    8.89|   10.22|        1.0|       31.37|1996|\n",
      "|   6|              Tetris|      GB|      Puzzle| Nintendo|    23.2|    2.26|    4.22|       0.58|       30.26|1989|\n",
      "|   7|New Super Mario B...|      DS|    Platform| Nintendo|   11.38|    9.23|     6.5|        2.9|       30.01|2006|\n",
      "|   8|            Wii Play|     Wii|        Misc| Nintendo|   14.03|     9.2|    2.93|       2.85|       29.02|2006|\n",
      "|   9|New Super Mario B...|     Wii|    Platform| Nintendo|   14.59|    7.06|     4.7|       2.26|       28.62|2009|\n",
      "|  10|           Duck Hunt|     NES|     Shooter| Nintendo|   26.93|    0.63|    0.28|       0.47|       28.31|1984|\n",
      "+----+--------------------+--------+------------+---------+--------+--------+--------+-----------+------------+----+\n",
      "only showing top 10 rows\n",
      "\n"
     ]
    }
   ],
   "source": [
    "# sales_ranking_df.show(10,True)\n",
    "sales_ranking_from_parquet_df.sort(\"Rank\").show(10)"
   ]
  },
  {
   "cell_type": "code",
   "execution_count": 158,
   "metadata": {},
   "outputs": [
    {
     "name": "stdout",
     "output_type": "stream",
     "text": [
      "+--------+------------+------------+------------+---------------+----------------+\n",
      "|Platform|sum_NA_sales|sum_EU_sales|sum_JP_sales|sum_Other_sales|sum_Global_sales|\n",
      "+--------+------------+------------+------------+---------------+----------------+\n",
      "|     PS2|      583.84|      339.29|      139.20|         193.44|         1255.64|\n",
      "|    X360|      601.05|      280.58|       12.43|          85.54|          979.96|\n",
      "|     PS3|      392.26|      343.71|       79.99|         141.93|          957.84|\n",
      "|     Wii|      507.71|      268.38|       69.35|          80.61|          926.71|\n",
      "|      DS|      390.71|      194.65|      175.57|          60.53|          822.49|\n",
      "|      PS|      336.51|      213.60|      139.82|          40.91|          730.66|\n",
      "|     GBA|      187.54|       75.25|       47.33|           7.73|          318.50|\n",
      "|     PSP|      108.99|       68.25|       76.79|          42.19|          296.28|\n",
      "|     PS4|       96.80|      123.70|       14.30|          43.36|          278.10|\n",
      "|      PC|       93.28|      139.68|        0.17|          24.86|          258.82|\n",
      "|      XB|      186.69|       60.95|        1.38|           8.72|          258.26|\n",
      "|      GB|      114.32|       47.82|       85.12|           8.20|          255.45|\n",
      "|     NES|      125.94|       21.15|       98.65|           5.31|          251.07|\n",
      "|     3DS|       78.87|       58.52|       97.35|          12.63|          247.46|\n",
      "|     N64|      139.02|       41.06|       34.22|           4.38|          218.88|\n",
      "|    SNES|       61.23|       19.04|      116.55|           3.22|          200.05|\n",
      "|      GC|      133.46|       38.71|       21.58|           5.18|          199.36|\n",
      "|    XOne|       83.19|       45.65|        0.34|          11.92|          141.06|\n",
      "|    2600|       90.60|        5.47|        0.00|           0.91|           97.08|\n",
      "|    WiiU|       38.32|       24.23|       12.79|           6.45|           81.86|\n",
      "|     PSV|       16.20|       16.33|       20.96|           8.45|           61.93|\n",
      "|     SAT|        0.72|        0.54|       32.26|           0.07|           33.59|\n",
      "|     GEN|       19.27|        5.52|        2.67|           0.89|           28.36|\n",
      "|      DC|        5.43|        1.69|        8.56|           0.27|           15.97|\n",
      "|     SCD|        1.00|        0.36|        0.45|           0.05|            1.87|\n",
      "|      NG|        0.00|        0.00|        1.44|           0.00|            1.44|\n",
      "|      WS|        0.00|        0.00|        1.42|           0.00|            1.42|\n",
      "|    TG16|        0.00|        0.00|        0.16|           0.00|            0.16|\n",
      "|     3DO|        0.00|        0.00|        0.10|           0.00|            0.10|\n",
      "|      GG|        0.00|        0.00|        0.04|           0.00|            0.04|\n",
      "|    PCFX|        0.00|        0.00|        0.03|           0.00|            0.03|\n",
      "+--------+------------+------------+------------+---------------+----------------+\n",
      "\n"
     ]
    }
   ],
   "source": [
    "q = \"\"\"\n",
    "    select Platform,\n",
    "            sum(cast(NA_Sales as decimal(18,2))) as sum_NA_sales,\n",
    "            sum(cast(EU_Sales as decimal(18,2))) as sum_EU_sales,\n",
    "            sum(cast(JP_Sales as decimal(18,2))) as sum_JP_sales,\n",
    "            sum(cast(Other_Sales as decimal(18,2))) as sum_Other_sales,\n",
    "            sum(cast(Global_Sales as decimal(18,2))) as sum_Global_sales\n",
    "    from sales_ranking\n",
    "    group by Platform\n",
    "    order by sum_Global_sales desc\n",
    "    \"\"\"\n",
    "sales_per_platform = spark.sql(q).show(100)"
   ]
  },
  {
   "cell_type": "code",
   "execution_count": 204,
   "metadata": {},
   "outputs": [],
   "source": [
    "# sales_ranking_df.groupBy(\"Platform\").sum(\"Global_Sales\").sort(desc(\"sum(Global_Sales)\")).collect()\n",
    "# sales_ranking_df.select(sales_ranking_df.Platform, sales_ranking_df.Global_Sales.cast(\"float\")).show()\n",
    "# grouped_global_sales = sales_ranking_df\\\n",
    "# .select(sales_ranking_df.Platform, sales_ranking_df.Global_Sales.cast(\"float\"))\\\n",
    "# .groupBy(sales_ranking_df.Platform)\\\n",
    "# .sum(\"Global_Sales\")\n",
    "\n",
    "# grouped_global_sales.select(grouped_global_sales.Platform, grouped_global_sales.Column(\"sum(Global_Sales)\")).show()\n",
    "\n",
    "# def printRows(rows):\n",
    "#     for row in rows:\n",
    "#             print(row.Platform)\n",
    "\n",
    "            \n",
    "# def printRow(row):\n",
    "#     print(row.Platform)\n",
    "\n",
    "# platform_df.repartition(1).foreachPartition(printRows)\n",
    "# platform_df.repartition(1).foreach(printRow)\n",
    "\n",
    "# platform_df.show(100)\n",
    "# spark.sql(q).show(100)"
   ]
  },
  {
   "cell_type": "markdown",
   "metadata": {},
   "source": [
    "#### Challenge - Find the Top 3 Game per Platform and build a DF with this data"
   ]
  },
  {
   "cell_type": "code",
   "execution_count": 301,
   "metadata": {},
   "outputs": [
    {
     "name": "stdout",
     "output_type": "stream",
     "text": [
      "+-----+--------------------+--------+------------+--------------------+--------+--------+--------+-----------+------------+----+\n",
      "| Rank|                Name|Platform|       Genre|           Publisher|NA_Sales|EU_Sales|JP_Sales|Other_Sales|Global_Sales|Year|\n",
      "+-----+--------------------+--------+------------+--------------------+--------+--------+--------+-----------+------------+----+\n",
      "|12637|         Policenauts|     3DO|   Adventure|Konami Digital En...|     0.0|     0.0|    0.06|        0.0|        0.06|1995|\n",
      "|14999|         Bust-A-Move|     3DO|      Puzzle|         Micro Cabin|     0.0|     0.0|    0.02|        0.0|        0.02|1994|\n",
      "|15482|Sotsugyou II: Neo...|     3DO|  Simulation|          Imageworks|     0.0|     0.0|    0.02|        0.0|        0.02|1995|\n",
      "|   84|          The Sims 3|      PC|  Simulation|     Electronic Arts|    0.98|    6.42|     0.0|       0.71|        8.11|2009|\n",
      "|  138|   World of Warcraft|      PC|Role-Playing|          Activision|    0.07|    6.21|     0.0|        0.0|        6.28|2004|\n",
      "|  182|          Diablo III|      PC|Role-Playing|          Activision|    2.43|    2.15|     0.0|       0.62|         5.2|2012|\n",
      "|   17|  Grand Theft Auto V|     PS3|      Action|Take-Two Interactive|    7.01|    9.27|    0.97|       4.14|        21.4|2013|\n",
      "|   35|Call of Duty: Bla...|     PS3|     Shooter|          Activision|    4.99|    5.88|    0.65|       2.52|       14.03|2012|\n",
      "|   38|Call of Duty: Mod...|     PS3|     Shooter|          Activision|    5.54|    5.82|    0.49|       1.62|       13.46|2011|\n",
      "|    2|   Super Mario Bros.|     NES|    Platform|            Nintendo|   29.08|    3.58|    6.81|       0.77|       40.24|1985|\n",
      "|   10|           Duck Hunt|     NES|     Shooter|            Nintendo|   26.93|    0.63|    0.28|       0.47|       28.31|1984|\n",
      "|   23| Super Mario Bros. 3|     NES|    Platform|            Nintendo|    9.54|    3.44|    3.84|       0.46|       17.28|1988|\n",
      "|   53|        Gran Turismo|      PS|      Racing|Sony Computer Ent...|    4.02|    3.87|    2.54|       0.52|       10.95|1997|\n",
      "|   67|   Final Fantasy VII|      PS|Role-Playing|Sony Computer Ent...|    3.01|    2.47|    3.28|       0.96|        9.72|1997|\n",
      "|   70|      Gran Turismo 2|      PS|      Racing|Sony Computer Ent...|    3.88|    3.42|    1.69|        0.5|        9.49|1999|\n",
      "|  638|     Sonic Adventure|      DC|    Platform|                Sega|    1.26|    0.61|    0.46|       0.08|        2.42|1998|\n",
      "|  961|          Crazy Taxi|      DC|      Racing|                Sega|     1.1|    0.51|    0.12|       0.08|        1.81|2000|\n",
      "| 1679|              NFL 2K|      DC|      Sports|                Sega|    1.12|    0.05|     0.0|       0.02|         1.2|1999|\n",
      "|  144|Sonic the Hedgehog 2|     GEN|    Platform|                Sega|    4.47|     1.2|    0.16|       0.19|        6.03|1992|\n",
      "|  255|  Sonic the Hedgehog|     GEN|    Platform|                Sega|    3.03|    0.91|    0.26|       0.13|        4.34|1991|\n",
      "|  565|       Mortal Kombat|     GEN|    Fighting| Arena Entertainment|    1.95|    0.63|     0.0|       0.09|        2.67|1992|\n",
      "|   18|Grand Theft Auto:...|     PS2|      Action|Take-Two Interactive|    9.43|     0.4|    0.41|      10.57|       20.81|2004|\n",
      "|   25|Grand Theft Auto:...|     PS2|      Action|Take-Two Interactive|    8.41|    5.49|    0.47|       1.78|       16.15|2002|\n",
      "|   29|Gran Turismo 3: A...|     PS2|      Racing|Sony Computer Ent...|    6.85|    5.09|    1.87|       1.16|       14.98|2001|\n",
      "|   33| Pokemon X/Pokemon Y|     3DS|Role-Playing|            Nintendo|    5.17|    4.05|    4.34|       0.79|       14.35|2013|\n",
      "|   43|        Mario Kart 7|     3DS|      Racing|            Nintendo|    4.74|    3.91|    2.67|       0.89|       12.21|2011|\n",
      "|   50|Pokemon Omega Rub...|     3DS|Role-Playing|            Nintendo|    4.23|    3.37|    3.08|       0.65|       11.33|2014|\n",
      "|14559|Blue Breaker: Ken...|    PCFX|Role-Playing|                 NEC|     0.0|     0.0|    0.03|        0.0|        0.03|1996|\n",
      "|13527|Sonic the Hedgeho...|      GG|    Platform|                Sega|     0.0|     0.0|    0.04|        0.0|        0.04|1992|\n",
      "|  109|        Mario Kart 8|    WiiU|      Racing|            Nintendo|    3.13|    2.07|    1.27|       0.49|        6.96|2014|\n",
      "|  184|New Super Mario B...|    WiiU|    Platform|            Nintendo|    2.32|     1.3|    1.27|       0.31|        5.19|2012|\n",
      "|  204|Super Smash Bros....|    WiiU|    Fighting|            Nintendo|    2.59|    1.06|     0.8|       0.57|        5.02|2014|\n",
      "|   19|   Super Mario World|    SNES|    Platform|            Nintendo|   12.78|    3.75|    3.54|       0.55|       20.61|1990|\n",
      "|   58|Super Mario All-S...|    SNES|    Platform|            Nintendo|    5.99|    2.15|    2.12|       0.29|       10.55|1993|\n",
      "|   72| Donkey Kong Country|    SNES|    Platform|            Nintendo|    4.36|    1.71|     3.0|       0.23|         9.3|1994|\n",
      "|    5|Pokemon Red/Pokem...|      GB|Role-Playing|            Nintendo|   11.27|    8.89|   10.22|        1.0|       31.37|1996|\n",
      "|    6|              Tetris|      GB|      Puzzle|            Nintendo|    23.2|    2.26|    4.22|       0.58|       30.26|1989|\n",
      "|   13|Pokemon Gold/Poke...|      GB|Role-Playing|            Nintendo|     9.0|    6.18|     7.2|       0.71|        23.1|1999|\n",
      "| 1263|            Sonic CD|     SCD|    Platform|                Sega|     1.0|    0.36|    0.09|       0.05|         1.5|1993|\n",
      "| 9016|    Shining Force CD|     SCD|    Strategy|                Sega|     0.0|     0.0|    0.14|        0.0|        0.14|1994|\n",
      "|11753|Formula One World...|     SCD|      Racing|                Sega|     0.0|     0.0|    0.07|        0.0|        0.07|1994|\n",
      "|   47|      Super Mario 64|     N64|    Platform|            Nintendo|    6.91|    2.85|    1.91|       0.23|       11.89|1996|\n",
      "|   64|       Mario Kart 64|     N64|      Racing|            Nintendo|    5.55|    1.94|    2.23|       0.15|        9.87|1996|\n",
      "|   85|       GoldenEye 007|     N64|     Shooter|            Nintendo|     5.8|    2.01|    0.13|       0.15|        8.09|1997|\n",
      "|   91|Grand Theft Auto:...|     PSP|      Action|Take-Two Interactive|     2.9|    2.83|    0.24|       1.75|        7.72|2005|\n",
      "|  162|Monster Hunter Fr...|     PSP|Role-Playing|              Capcom|    0.47|    0.57|    4.13|       0.34|         5.5|2008|\n",
      "|  199|Grand Theft Auto:...|     PSP|      Action|Take-Two Interactive|     1.7|    2.02|    0.16|       1.21|        5.08|2006|\n",
      "|   34|Call of Duty: Bla...|     PS4|     Shooter|          Activision|    5.77|    5.81|    0.35|       2.31|       14.24|2015|\n",
      "|   45|  Grand Theft Auto V|     PS4|      Action|Take-Two Interactive|     3.8|    5.81|    0.36|       2.02|       11.98|2014|\n",
      "|   78|             FIFA 16|     PS4|      Sports|     Electronic Arts|    1.11|    6.06|    0.06|       1.26|        8.49|2015|\n",
      "|   90|             Pac-Man|    2600|      Puzzle|               Atari|    7.28|    0.45|     0.0|       0.08|        7.81|1982|\n",
      "|  240|            Pitfall!|    2600|    Platform|          Activision|    4.21|    0.24|     0.0|       0.05|         4.5|1981|\n",
      "|  259|           Asteroids|    2600|     Shooter|               Atari|     4.0|    0.26|     0.0|       0.05|        4.31|1980|\n",
      "|  102|Call of Duty: Bla...|    XOne|     Shooter|          Activision|    4.52|    2.09|    0.01|       0.67|         7.3|2015|\n",
      "|  194|Call of Duty: Adv...|    XOne|     Shooter|          Activision|    3.21|    1.53|    0.01|       0.38|        5.13|2014|\n",
      "|  198|  Grand Theft Auto V|    XOne|      Action|Take-Two Interactive|    2.66|    2.01|     0.0|       0.41|        5.08|2014|\n",
      "|   16|  Kinect Adventures!|    X360|        Misc|Microsoft Game St...|   14.97|    4.94|    0.24|       1.67|       21.82|2010|\n",
      "|   24|  Grand Theft Auto V|    X360|      Action|Take-Two Interactive|    9.63|    5.31|    0.06|       1.38|       16.38|2013|\n",
      "|   30|Call of Duty: Mod...|    X360|     Shooter|          Activision|    9.03|    4.28|    0.13|       1.32|       14.76|2011|\n",
      "|   26|Pokemon Ruby/Poke...|     GBA|Role-Playing|            Nintendo|    6.06|     3.9|    5.38|        0.5|       15.85|2002|\n",
      "|   59|Pokemon FireRed/P...|     GBA|Role-Playing|            Nintendo|    4.34|    2.65|    3.15|       0.35|       10.49|2004|\n",
      "|  131|Pokémon Emerald V...|     GBA|Role-Playing|            Nintendo|    2.57|    1.58|    2.06|       0.21|        6.41|2004|\n",
      "| 3933|       Final Fantasy|      WS|Role-Playing|          SquareSoft|     0.0|     0.0|    0.51|        0.0|        0.51|2000|\n",
      "| 6135|Digimon Adventure...|      WS|Role-Playing|  Namco Bandai Games|     0.0|     0.0|    0.28|        0.0|        0.28|1999|\n",
      "| 6671|    Final Fantasy II|      WS|Role-Playing|          SquareSoft|     0.0|     0.0|    0.25|        0.0|        0.25|2001|\n",
      "|    1|          Wii Sports|     Wii|      Sports|            Nintendo|   41.49|   29.02|    3.77|       8.46|       82.74|2006|\n",
      "|    3|      Mario Kart Wii|     Wii|      Racing|            Nintendo|   15.85|   12.88|    3.79|       3.31|       35.82|2008|\n",
      "|    4|   Wii Sports Resort|     Wii|      Sports|            Nintendo|   15.75|   11.01|    3.28|       2.96|        33.0|2009|\n",
      "|  108|Super Smash Bros....|      GC|    Fighting|            Nintendo|    4.41|    1.04|    1.39|       0.22|        7.07|2001|\n",
      "|  111|Mario Kart: Doubl...|      GC|      Racing|            Nintendo|    4.12|    1.77|    0.87|       0.19|        6.95|2003|\n",
      "|  136|Super Mario Sunshine|      GC|    Platform|            Nintendo|    4.01|    1.26|    0.87|       0.17|        6.31|2002|\n",
      "|  715|           Minecraft|     PSV|        Misc|Sony Computer Ent...|    0.28|    0.79|    0.87|       0.32|        2.25|2014|\n",
      "| 1025|Uncharted: Golden...|     PSV|     Shooter|Sony Computer Ent...|    0.59|    0.75|    0.13|       0.27|        1.74|2011|\n",
      "| 1073|Call of Duty Blac...|     PSV|      Action|          Activision|     0.8|    0.52|    0.07|        0.3|        1.69|2012|\n",
      "|   80|              Halo 2|      XB|     Shooter|Microsoft Game St...|    6.82|    1.53|    0.05|       0.08|        8.49|2004|\n",
      "|  130|Halo: Combat Evolved|      XB|     Shooter|Microsoft Game St...|    4.98|     1.3|    0.08|       0.07|        6.43|2001|\n",
      "|  465|Tom Clancy's Spli...|      XB|      Action|             Ubisoft|    1.85|    1.04|     0.0|       0.13|        3.02|2002|\n",
      "|    7|New Super Mario B...|      DS|    Platform|            Nintendo|   11.38|    9.23|     6.5|        2.9|       30.01|2006|\n",
      "|   11|          Nintendogs|      DS|  Simulation|            Nintendo|    9.07|    11.0|    1.93|       2.75|       24.76|2005|\n",
      "|   12|       Mario Kart DS|      DS|      Racing|            Nintendo|    9.81|    7.57|    4.13|       1.92|       23.42|2005|\n",
      "| 9225|          Doukyuusei|    TG16|   Adventure|                 NEC|     0.0|     0.0|    0.14|        0.0|        0.14|1995|\n",
      "|15538|Ginga Fukei Dense...|    TG16|     Shooter|         Hudson Soft|     0.0|     0.0|    0.02|        0.0|        0.02|1995|\n",
      "| 6683|  Samurai Shodown II|      NG|    Fighting|                 SNK|     0.0|     0.0|    0.25|        0.0|        0.25|1994|\n",
      "| 7047|The King of Fight...|      NG|    Fighting|                 SNK|     0.0|     0.0|    0.23|        0.0|        0.23|1994|\n",
      "| 7500|The King of Fight...|      NG|    Fighting|                 SNK|     0.0|     0.0|     0.2|        0.0|         0.2|1995|\n",
      "|  890|    Virtua Fighter 2|     SAT|    Fighting|                Sega|    0.34|    0.26|     1.3|       0.03|        1.93|1995|\n",
      "| 1755|Sega Rally Champi...|     SAT|      Racing|                Sega|    0.21|    0.16|    0.77|       0.02|        1.16|1995|\n",
      "| 1925|      Virtua Fighter|     SAT|    Fighting|                Sega|    0.17|    0.12|    0.77|       0.02|        1.07|1994|\n",
      "+-----+--------------------+--------+------------+--------------------+--------+--------+--------+-----------+------------+----+\n",
      "\n"
     ]
    }
   ],
   "source": [
    "# SparkSQL\n",
    "q_platforms = \"select distinct Platform from sales_ranking_parquet\"\n",
    "platform_df = spark.sql(q_platforms).cache()\n",
    "sales_ranking_from_parquet_df.cache()\n",
    "schema = sales_ranking_from_parquet_df.schema\n",
    "new_df = spark.createDataFrame(sc.emptyRDD(), schema)\n",
    "\n",
    "\n",
    "for platform in platform_df.collect():\n",
    "    q = f\"\"\"\n",
    "        select *\n",
    "        from sales_ranking_parquet\n",
    "        where Platform = '{platform.Platform}'\n",
    "        order by Rank\n",
    "        limit 3;\n",
    "        \"\"\"\n",
    "    filtered_df = spark.sql(q)\n",
    "    new_df = new_df.union(filtered_df)    \n",
    "\n",
    "new_df.show(100)"
   ]
  },
  {
   "cell_type": "code",
   "execution_count": 302,
   "metadata": {},
   "outputs": [
    {
     "name": "stdout",
     "output_type": "stream",
     "text": [
      "+-----+--------------------+--------+------------+--------------------+--------+--------+--------+-----------+------------+----+\n",
      "| Rank|                Name|Platform|       Genre|           Publisher|NA_Sales|EU_Sales|JP_Sales|Other_Sales|Global_Sales|Year|\n",
      "+-----+--------------------+--------+------------+--------------------+--------+--------+--------+-----------+------------+----+\n",
      "|12637|         Policenauts|     3DO|   Adventure|Konami Digital En...|     0.0|     0.0|    0.06|        0.0|        0.06|1995|\n",
      "|15482|Sotsugyou II: Neo...|     3DO|  Simulation|          Imageworks|     0.0|     0.0|    0.02|        0.0|        0.02|1995|\n",
      "|14999|         Bust-A-Move|     3DO|      Puzzle|         Micro Cabin|     0.0|     0.0|    0.02|        0.0|        0.02|1994|\n",
      "| 1488|World of Warcraft...|      PC|Role-Playing|          Activision|    0.01|    0.13|     0.0|       1.18|        1.32|2008|\n",
      "| 1719|               Spore|      PC|    Strategy|     Electronic Arts|    0.03|    1.06|     0.0|       0.09|        1.17|2008|\n",
      "| 1763|Worldwide Soccer ...|      PC|  Simulation|                Sega|     0.0|    1.14|     0.0|       0.01|        1.15|2008|\n",
      "|  300|           Fallout 3|     PS3|Role-Playing|  Bethesda Softworks|    2.15|     1.2|    0.07|       0.59|        4.01|2008|\n",
      "|  590|      FIFA Soccer 09|     PS3|      Sports|     Electronic Arts|    0.48|    1.63|    0.04|       0.43|        2.59|2008|\n",
      "|  621|        Resistance 2|     PS3|     Shooter|Sony Computer Ent...|    1.15|    0.85|     0.1|       0.39|        2.48|2008|\n",
      "|10311|Final Fantasy I & II|     NES|Role-Playing|              Square|     0.0|     0.0|    0.11|        0.0|        0.11|1994|\n",
      "| 1012|   Kirby's Adventure|     NES|    Platform|            Nintendo|    0.79|    0.14|     0.8|       0.02|        1.75|1993|\n",
      "| 2113|            Tetris 2|     NES|      Puzzle|            Nintendo|    0.62|    0.13|    0.21|       0.02|        0.98|1993|\n",
      "|  810|Spec Ops: Airborn...|      PS|     Shooter|Take-Two Interactive|    1.54|    0.46|     0.0|       0.08|        2.07|2002|\n",
      "|  856|Harry Potter and ...|      PS|      Action|     Electronic Arts|    0.75|    1.09|    0.02|       0.12|        1.98|2002|\n",
      "| 3367|From TV Animation...|      PS|    Fighting|  Namco Bandai Games|     0.0|     0.0|    0.56|       0.04|         0.6|2002|\n",
      "|13960|Pia Carrot e Youk...|      DC|   Adventure|    NEC Interchannel|     0.0|     0.0|    0.04|        0.0|        0.04|2008|\n",
      "|15902|Triggerheart Exelica|      DC|     Shooter|             Warashi|     0.0|     0.0|    0.02|        0.0|        0.02|2007|\n",
      "| 6060|Sakura Wars 4: Ko...|      DC|   Adventure|                Sega|     0.0|     0.0|    0.29|        0.0|        0.29|2002|\n",
      "|  954|    Sonic & Knuckles|     GEN|    Platform|                Sega|    1.24|    0.43|    0.03|       0.12|        1.82|1994|\n",
      "|  993|Sonic the Hedgehog 3|     GEN|    Platform|                Sega|    1.02|    0.47|     0.2|       0.07|        1.76|1994|\n",
      "| 1374|Disney's The Lion...|     GEN|    Platform|  Virgin Interactive|    0.97|    0.37|    0.03|       0.05|        1.41|1994|\n",
      "|  615|PES 2009: Pro Evo...|     PS2|      Sports|Konami Digital En...|    0.13|    0.07|    0.26|       2.05|         2.5|2008|\n",
      "|  703|      FIFA Soccer 09|     PS2|      Sports|     Electronic Arts|    0.38|    0.07|    0.01|       1.82|        2.28|2008|\n",
      "|  964|Guitar Hero: Worl...|     PS2|        Misc|          Activision|     1.0|    0.03|     0.0|       0.77|         1.8|2008|\n",
      "|  322|   Nintendogs + cats|     3DS|  Simulation|            Nintendo|    1.44|    1.37|    0.73|       0.27|        3.81|2011|\n",
      "|  537|  Monster Hunter Tri|     3DS|Role-Playing|            Nintendo|    0.46|    0.29|    1.96|       0.07|        2.79|2011|\n",
      "|  977|Professor Layton ...|     3DS|      Puzzle|            Nintendo|    0.32|    0.95|    0.36|       0.14|        1.78|2011|\n",
      "|14559|Blue Breaker: Ken...|    PCFX|Role-Playing|                 NEC|     0.0|     0.0|    0.03|        0.0|        0.03|1996|\n",
      "|13527|Sonic the Hedgeho...|      GG|    Platform|                Sega|     0.0|     0.0|    0.04|        0.0|        0.04|1992|\n",
      "| 2031|              ZombiU|    WiiU|      Action|             Ubisoft|    0.53|    0.36|    0.05|       0.08|        1.02|2012|\n",
      "| 2852|  Monster Hunter Tri|    WiiU|Role-Playing|            Nintendo|    0.26|    0.19|    0.22|       0.04|        0.72|2012|\n",
      "| 3795|Sonic & All-Stars...|    WiiU|      Racing|                Sega|     0.2|    0.27|    0.02|       0.05|        0.53|2012|\n",
      "| 9226|     RockMan & Forte|    SNES|    Platform|              Capcom|     0.0|     0.0|    0.14|        0.0|        0.14|1998|\n",
      "|11381|   Derby Stallion 98|    SNES|      Sports| ASCII Entertainment|     0.0|     0.0|    0.08|        0.0|        0.08|1998|\n",
      "| 6584|Fire Emblem: Thra...|    SNES|    Strategy|            Nintendo|     0.0|     0.0|    0.26|        0.0|        0.26|1999|\n",
      "|  896|The Legend of Zel...|      GB|      Action|            Nintendo|    0.92|    0.53|    0.41|       0.06|        1.92|2001|\n",
      "|  925|The Legend of Zel...|      GB|   Adventure|            Nintendo|    0.87|    0.52|    0.41|       0.06|        1.86|2001|\n",
      "| 1030|Harry Potter and ...|      GB|      Action|     Electronic Arts|    0.94|    0.62|     0.1|       0.07|        1.73|2001|\n",
      "| 9016|    Shining Force CD|     SCD|    Strategy|                Sega|     0.0|     0.0|    0.14|        0.0|        0.14|1994|\n",
      "|11753|Formula One World...|     SCD|      Racing|                Sega|     0.0|     0.0|    0.07|        0.0|        0.07|1994|\n",
      "|12572|Record of Lodoss ...|     SCD|Role-Playing|                Sega|     0.0|     0.0|    0.06|        0.0|        0.06|1994|\n",
      "|11482|Tony Hawk's Pro S...|     N64|      Sports|          Activision|    0.06|    0.02|     0.0|        0.0|        0.08|2002|\n",
      "| 2675|Conker's Bad Fur Day|     N64|    Platform|                 THQ|    0.53|    0.22|     0.0|       0.02|        0.77|2001|\n",
      "| 2707|Tony Hawk's Pro S...|     N64|      Sports|          Activision|    0.59|    0.16|     0.0|       0.01|        0.76|2001|\n",
      "|  426|God of War: Chain...|     PSP|      Action|Sony Computer Ent...|    1.48|    1.01|    0.04|       0.66|        3.19|2008|\n",
      "|  721|Dissidia: Final F...|     PSP|    Fighting|         Square Enix|    0.51|    0.51|    0.91|       0.32|        2.25|2008|\n",
      "| 1440|      FIFA Soccer 09|     PSP|      Sports|     Electronic Arts|    0.23|    0.73|    0.02|       0.37|        1.35|2008|\n",
      "|  315|            NBA 2K16|     PS4|      Sports|Take-Two Interactive|    2.48|    0.65|    0.03|       0.69|        3.85|2015|\n",
      "|  323|Batman: Arkham Kn...|     PS4|      Action|Warner Bros. Inte...|    1.49|    1.58|     0.1|       0.61|        3.79|2015|\n",
      "|  332|The Witcher 3: Wi...|     PS4|Role-Playing|  Namco Bandai Games|    0.96|     2.0|    0.21|       0.56|        3.73|2015|\n",
      "|  608|      Space Invaders|    2600|     Shooter|               Atari|    2.36|    0.14|     0.0|       0.03|        2.53|null|\n",
      "| 1515|           Adventure|    2600|   Adventure|               Atari|    1.21|    0.08|     0.0|       0.01|         1.3|null|\n",
      "| 1587|              Combat|    2600|      Action|               Atari|    1.17|    0.07|     0.0|       0.01|        1.25|null|\n",
      "|  288|           Fallout 4|    XOne|Role-Playing|  Bethesda Softworks|    2.45|    1.26|    0.01|       0.37|        4.09|2015|\n",
      "|  379|Star Wars Battlef...|    XOne|     Shooter|     Electronic Arts|    1.94|    1.22|    0.02|       0.31|        3.49|2015|\n",
      "|  417|             FIFA 16|    XOne|      Sports|     Electronic Arts|    0.88|    2.11|     0.0|       0.23|        3.23|2015|\n",
      "|  325|LEGO Indiana Jone...|    X360|      Action|          Activision|     2.4|    1.03|     0.0|       0.36|        3.78|2008|\n",
      "|  370|         Left 4 Dead|    X360|     Shooter|     Electronic Arts|    2.66|     0.5|    0.05|        0.3|        3.52|2008|\n",
      "|  395|LEGO Batman: The ...|    X360|      Action|Warner Bros. Inte...|    2.03|    1.03|     0.0|       0.32|        3.38|2008|\n",
      "| 1000|2 Games in 1 Doub...|     GBA|      Action|                 THQ|    1.26|    0.47|     0.0|       0.03|        1.76|2007|\n",
      "| 1664|Shrek / Shrek 2 2...|     GBA|        Misc|                 N/A|    0.87|    0.32|     0.0|       0.02|        1.21|2007|\n",
      "| 7078|Barbie as The Isl...|     GBA|   Adventure|          Activision|    0.16|    0.06|     0.0|        0.0|        0.23|2007|\n",
      "| 6671|    Final Fantasy II|      WS|Role-Playing|          SquareSoft|     0.0|     0.0|    0.25|        0.0|        0.25|2001|\n",
      "|14174|SD Gundam G Gener...|      WS|    Strategy|  Namco Bandai Games|     0.0|     0.0|    0.03|        0.0|        0.03|2001|\n",
      "| 3933|       Final Fantasy|      WS|Role-Playing|          SquareSoft|     0.0|     0.0|    0.51|        0.0|        0.51|2000|\n",
      "|  344|Guitar Hero: Worl...|     Wii|        Misc|          Activision|    2.33|    0.97|     0.0|       0.35|        3.65|2008|\n",
      "|  413|           Wii Music|     Wii|        Misc|            Nintendo|    1.36|    1.13|    0.46|       0.32|        3.27|2008|\n",
      "|    3|      Mario Kart Wii|     Wii|      Racing|            Nintendo|   15.85|   12.88|    3.79|       3.31|       35.82|2008|\n",
      "| 9027|         Ratatouille|      GC|      Action|                 THQ|    0.11|    0.03|     0.0|        0.0|        0.14|2007|\n",
      "|11655|       Madden NFL 08|      GC|      Sports|     Electronic Arts|    0.06|    0.02|     0.0|        0.0|        0.08|2007|\n",
      "|13523|Disney's Meet the...|      GC|      Action|Disney Interactiv...|    0.03|    0.01|     0.0|        0.0|        0.04|2007|\n",
      "| 1025|Uncharted: Golden...|     PSV|     Shooter|Sony Computer Ent...|    0.59|    0.75|    0.13|       0.27|        1.74|2011|\n",
      "| 3337|Hot Shots Golf: W...|     PSV|      Sports|Sony Computer Ent...|    0.19|    0.11|    0.25|       0.06|         0.6|2011|\n",
      "| 4181|Virtua Tennis 4: ...|     PSV|      Sports|                Sega|    0.05|     0.3|    0.01|       0.12|        0.47|2011|\n",
      "| 8195|       Madden NFL 09|      XB|      Sports|     Electronic Arts|    0.13|    0.04|     0.0|       0.01|        0.18|2008|\n",
      "| 6047|       Madden NFL 08|      XB|      Sports|     Electronic Arts|    0.22|    0.06|     0.0|       0.01|        0.29|2007|\n",
      "| 8115|         Van Helsing|      XB|      Action|          Activision|    0.13|    0.04|     0.0|       0.01|        0.18|2007|\n",
      "|  381|Guitar Hero: On Tour|      DS|        Misc|          Activision|    2.11|    1.01|    0.01|       0.35|        3.48|2008|\n",
      "|  400|Professor Layton ...|      DS|      Puzzle|            Nintendo|    0.65|    1.61|    0.82|       0.28|        3.36|2008|\n",
      "|  433|       Rhythm Heaven|      DS|        Misc|            Nintendo|    0.58|    0.51|    1.93|       0.14|        3.17|2008|\n",
      "| 9225|          Doukyuusei|    TG16|   Adventure|                 NEC|     0.0|     0.0|    0.14|        0.0|        0.14|1995|\n",
      "|15538|Ginga Fukei Dense...|    TG16|     Shooter|         Hudson Soft|     0.0|     0.0|    0.02|        0.0|        0.02|1995|\n",
      "|12789|The King of Fight...|      NG|    Fighting|                 SNK|     0.0|     0.0|    0.06|        0.0|        0.06|1996|\n",
      "|13916|Art of Fighting 3...|      NG|    Fighting|                 SNK|     0.0|     0.0|    0.04|        0.0|        0.04|1996|\n",
      "| 7500|The King of Fight...|      NG|    Fighting|                 SNK|     0.0|     0.0|     0.2|        0.0|         0.2|1995|\n",
      "| 3674|Super Robot Taise...|     SAT|    Strategy|           Banpresto|     0.0|     0.0|    0.55|        0.0|        0.55|1998|\n",
      "| 3758|Sakura Taisen 2 -...|     SAT|   Adventure|                Sega|     0.0|     0.0|    0.53|        0.0|        0.53|1998|\n",
      "| 6613|Kidou Senshi Gund...|     SAT|    Strategy|  Namco Bandai Games|     0.0|     0.0|    0.25|        0.0|        0.25|1998|\n",
      "+-----+--------------------+--------+------------+--------------------+--------+--------+--------+-----------+------------+----+\n",
      "\n"
     ]
    }
   ],
   "source": [
    "# Vanilla Spark\n",
    "platform_df = sales_ranking_from_parquet_df.select(\"Platform\").dropDuplicates().cache()\n",
    "sales_ranking_from_parquet_df.cache()\n",
    "schema = sales_ranking_from_parquet_df.schema\n",
    "new_df = spark.createDataFrame(sc.emptyRDD(), schema)\n",
    "\n",
    "for platform in platform_df.collect():\n",
    "    filtered_df = sales_ranking_from_parquet_df.filter(sales_ranking_from_parquet_df.Platform == platform.Platform).limit(3)\n",
    "    new_df = new_df.union(filtered_df)    \n",
    "\n",
    "new_df.show(100)"
   ]
  },
  {
   "cell_type": "code",
   "execution_count": null,
   "metadata": {},
   "outputs": [],
   "source": []
  }
 ],
 "metadata": {
  "kernelspec": {
   "display_name": "Python 3",
   "language": "python",
   "name": "python3"
  },
  "language_info": {
   "codemirror_mode": {
    "name": "ipython",
    "version": 3
   },
   "file_extension": ".py",
   "mimetype": "text/x-python",
   "name": "python",
   "nbconvert_exporter": "python",
   "pygments_lexer": "ipython3",
   "version": "3.8.4"
  }
 },
 "nbformat": 4,
 "nbformat_minor": 4
}
